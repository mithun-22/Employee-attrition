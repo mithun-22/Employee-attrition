{
  "nbformat": 4,
  "nbformat_minor": 0,
  "metadata": {
    "colab": {
      "provenance": [],
      "authorship_tag": "ABX9TyMKhyjSazrgfczMoa2XlhLQ",
      "include_colab_link": true
    },
    "kernelspec": {
      "name": "python3",
      "display_name": "Python 3"
    },
    "language_info": {
      "name": "python"
    }
  },
  "cells": [
    {
      "cell_type": "markdown",
      "metadata": {
        "id": "view-in-github",
        "colab_type": "text"
      },
      "source": [
        "<a href=\"https://colab.research.google.com/github/mithun-22/Employee-attrition/blob/main/Employee_attrition_ml_.ipynb\" target=\"_parent\"><img src=\"https://colab.research.google.com/assets/colab-badge.svg\" alt=\"Open In Colab\"/></a>"
      ]
    },
    {
      "cell_type": "code",
      "execution_count": 1,
      "metadata": {
        "id": "w3Uf7s2Y-t_z"
      },
      "outputs": [],
      "source": [
        "import pandas as pd"
      ]
    },
    {
      "cell_type": "code",
      "source": [
        "import pandas as pd\n",
        "from sklearn.tree import DecisionTreeClassifier\n",
        "from sklearn.metrics import accuracy_score, classification_report\n",
        "from sklearn.model_selection import GridSearchCV\n",
        "from sklearn.model_selection import train_test_split"
      ],
      "metadata": {
        "id": "-Ma8wHPlAgZO"
      },
      "execution_count": 2,
      "outputs": []
    },
    {
      "cell_type": "code",
      "source": [
        "data = pd.read_excel(\"/content/Employee-Attrition.xlsx\")"
      ],
      "metadata": {
        "id": "zzv1_VHjAr3J"
      },
      "execution_count": 3,
      "outputs": []
    },
    {
      "cell_type": "markdown",
      "source": [
        "Prediction rating"
      ],
      "metadata": {
        "id": "RAMgwYDrBh_3"
      }
    },
    {
      "cell_type": "code",
      "source": [
        "x = data[['YearsAtCompany','Education','YearsInCurrentRole','YearsWithCurrManager','YearsSinceLastPromotion','JobInvolvement']]\n",
        "\n",
        "y = data['PerformanceRating']\n",
        "\n",
        "decisionmodel = DecisionTreeClassifier()\n",
        "\n",
        "x_train,x_test,y_train,y_test = train_test_split(x,y,test_size=0.2,random_state=42)\n",
        "\n",
        "decisionmodel.fit(x_train,y_train)\n",
        "\n",
        "y_pred = decisionmodel.predict(x_test)\n",
        "\n",
        "print(accuracy_score(y_test,y_pred))\n",
        "print(classification_report(y_test,y_pred))"
      ],
      "metadata": {
        "colab": {
          "base_uri": "https://localhost:8080/"
        },
        "id": "d-dZagvwBbFg",
        "outputId": "b38344b3-7791-46c3-b92e-4390c6c8b1c7"
      },
      "execution_count": 4,
      "outputs": [
        {
          "output_type": "stream",
          "name": "stdout",
          "text": [
            "0.7619047619047619\n",
            "              precision    recall  f1-score   support\n",
            "\n",
            "           3       0.85      0.87      0.86       251\n",
            "           4       0.15      0.14      0.15        43\n",
            "\n",
            "    accuracy                           0.76       294\n",
            "   macro avg       0.50      0.50      0.50       294\n",
            "weighted avg       0.75      0.76      0.76       294\n",
            "\n"
          ]
        }
      ]
    },
    {
      "cell_type": "code",
      "source": [
        "import pickle\n",
        "\n",
        "# Save to file\n",
        "with open('performance_rating1.pkl', 'wb') as file:\n",
        "    pickle.dump(decisionmodel, file)\n",
        "\n",
        "print(\"Model saved as performance_rating_model1.pkl ✅\")"
      ],
      "metadata": {
        "colab": {
          "base_uri": "https://localhost:8080/"
        },
        "id": "5zZGuA10BpK0",
        "outputId": "97fd1b64-1a25-49ec-c95e-2e6a8335bece"
      },
      "execution_count": 5,
      "outputs": [
        {
          "output_type": "stream",
          "name": "stdout",
          "text": [
            "Model saved as performance_rating_model1.pkl ✅\n"
          ]
        }
      ]
    },
    {
      "cell_type": "code",
      "source": [
        "from sklearn.tree import DecisionTreeClassifier\n",
        "from sklearn.preprocessing import LabelEncoder\n",
        "from sklearn.metrics import classification_report, accuracy_score, confusion_matrix\n",
        "from sklearn.model_selection import GridSearchCV\n",
        "from sklearn.model_selection import train_test_split\n",
        "\n",
        "\n",
        "\n",
        "x = data[['JobSatisfaction','OverTime','Education','JobLevel','YearsAtCompany','YearsInCurrentRole','TotalWorkingYears']]\n",
        "cols = ['JobSatisfaction','OverTime','Education','JobLevel','YearsAtCompany','YearsInCurrentRole','TotalWorkingYears','Attrition']\n",
        "y = data['Attrition']\n",
        "\n",
        "\n",
        "le = LabelEncoder()\n",
        "data[cols] = data[cols].apply(le.fit_transform)\n",
        "\n",
        "x_train,x_test,y_train,y_test = train_test_split(x,y,test_size=0.2,random_state=42)\n",
        "\n",
        "dt=DecisionTreeClassifier()\n",
        "dt.fit(x_train,y_train)\n",
        "y_pred=dt.predict(x_test)\n",
        "\n",
        "\n",
        "print(accuracy_score(y_test, y_pred))\n",
        "print(classification_report(y_test, y_pred))\n",
        "print(confusion_matrix(y_test, y_pred))"
      ],
      "metadata": {
        "colab": {
          "base_uri": "https://localhost:8080/"
        },
        "id": "jF4D2cEgBzmi",
        "outputId": "6e6962a2-c251-4e6e-c728-65962b6c203d"
      },
      "execution_count": 9,
      "outputs": [
        {
          "output_type": "stream",
          "name": "stdout",
          "text": [
            "0.7619047619047619\n",
            "              precision    recall  f1-score   support\n",
            "\n",
            "           0       0.88      0.84      0.86       255\n",
            "           1       0.21      0.28      0.24        39\n",
            "\n",
            "    accuracy                           0.76       294\n",
            "   macro avg       0.55      0.56      0.55       294\n",
            "weighted avg       0.79      0.76      0.78       294\n",
            "\n",
            "[[213  42]\n",
            " [ 28  11]]\n"
          ]
        }
      ]
    },
    {
      "cell_type": "code",
      "source": [
        "from sklearn.ensemble import RandomForestClassifier\n",
        "\n",
        "\n",
        "x = data[['JobSatisfaction','OverTime','Education','JobLevel','YearsAtCompany','YearsInCurrentRole','TotalWorkingYears']]\n",
        "cols = ['JobSatisfaction','OverTime','Education','JobLevel','YearsAtCompany','YearsInCurrentRole','TotalWorkingYears']\n",
        "y = data['Attrition']\n",
        "\n",
        "\n",
        "le = LabelEncoder()\n",
        "data[cols] = data[cols].apply(le.fit_transform)\n",
        "\n",
        "x_train,x_test,y_train,y_test = train_test_split(x,y,test_size=0.2,random_state=42)\n",
        "\n",
        "dt = RandomForestClassifier()\n",
        "dt.fit(x_train,y_train)\n",
        "y_pred = dt.predict(x_test)\n",
        "from sklearn.metrics import accuracy_score, classification_report, confusion_matrix\n",
        "randomforest = accuracy_score(y_pred,y_test)\n",
        "print(accuracy_score(y_pred,y_test))\n",
        "print(classification_report(y_pred,y_test))\n",
        "print(confusion_matrix(y_pred,y_test))\n",
        "\n",
        "model = RandomForestClassifier()\n",
        "param_grid = {\n",
        "   'criterion': ['gini', 'entropy','log_loss'],\n",
        "   'max_depth': [5, 10, 15, None],\n",
        "   'min_samples_split': [2, 5, 10],\n",
        "   'min_samples_leaf': [1, 2, 4]\n",
        "}\n",
        "gridcv = GridSearchCV(model,param_grid=param_grid,cv=5,scoring='accuracy',n_jobs=-1)\n",
        "gridcv.fit(x_train,y_train)\n",
        "y_pred = gridcv.predict(x_test)\n",
        "print(\"Best parameters from GridSearchCV\",gridcv.best_params_)\n",
        "print(\"Best accuracy from GridSearchCV\",gridcv.best_score_)\n",
        "best_model_grid = gridcv.best_estimator_\n",
        "y_pred_grid = best_model_grid.predict(x_test)\n",
        "randomforest1 = gridcv.best_score_\n",
        "# Performance Metrics\n",
        "print(\"\\nGrid Search CV Classification Report:\\n\", classification_report(y_test, y_pred))"
      ],
      "metadata": {
        "colab": {
          "base_uri": "https://localhost:8080/"
        },
        "id": "H4k5sBkLB4bC",
        "outputId": "e79c3d26-7f7b-4fe4-9397-e1490bbbb43b"
      },
      "execution_count": 10,
      "outputs": [
        {
          "output_type": "stream",
          "name": "stdout",
          "text": [
            "0.8435374149659864\n",
            "              precision    recall  f1-score   support\n",
            "\n",
            "           0       0.95      0.88      0.91       273\n",
            "           1       0.18      0.33      0.23        21\n",
            "\n",
            "    accuracy                           0.84       294\n",
            "   macro avg       0.56      0.61      0.57       294\n",
            "weighted avg       0.89      0.84      0.86       294\n",
            "\n",
            "[[241  32]\n",
            " [ 14   7]]\n",
            "Best parameters from GridSearchCV {'criterion': 'entropy', 'max_depth': None, 'min_samples_leaf': 1, 'min_samples_split': 10}\n",
            "Best accuracy from GridSearchCV 0.8494807068157231\n",
            "\n",
            "Grid Search CV Classification Report:\n",
            "               precision    recall  f1-score   support\n",
            "\n",
            "           0       0.88      0.97      0.92       255\n",
            "           1       0.33      0.10      0.16        39\n",
            "\n",
            "    accuracy                           0.85       294\n",
            "   macro avg       0.60      0.54      0.54       294\n",
            "weighted avg       0.80      0.85      0.82       294\n",
            "\n"
          ]
        }
      ]
    },
    {
      "cell_type": "code",
      "source": [
        "import pickle\n",
        "\n",
        "# Save to file\n",
        "with open('Attrition_rate1.pkl', 'wb') as file:\n",
        "    pickle.dump(dt, file)\n",
        "\n",
        "print(\"Model saved as attrition rate.pkl ✅\")"
      ],
      "metadata": {
        "colab": {
          "base_uri": "https://localhost:8080/"
        },
        "id": "zsBsDXLaCjrE",
        "outputId": "d0199012-d19f-46eb-be80-da8cd88c45bc"
      },
      "execution_count": 11,
      "outputs": [
        {
          "output_type": "stream",
          "name": "stdout",
          "text": [
            "Model saved as attrition rate.pkl ✅\n"
          ]
        }
      ]
    },
    {
      "cell_type": "code",
      "source": [
        "with open('Attrition_rate1.pkl', 'rb') as file:\n",
        "    loaded_dump = pickle.load(file)\n",
        "prediction=loaded_dump.predict([[1,1,3,3,6,6,7]])"
      ],
      "metadata": {
        "colab": {
          "base_uri": "https://localhost:8080/"
        },
        "id": "sq9-q2QQDGkB",
        "outputId": "f5a30857-b9af-43fd-82c2-bc8cbfe8ca0a"
      },
      "execution_count": 12,
      "outputs": [
        {
          "output_type": "stream",
          "name": "stderr",
          "text": [
            "/usr/local/lib/python3.11/dist-packages/sklearn/utils/validation.py:2739: UserWarning: X does not have valid feature names, but RandomForestClassifier was fitted with feature names\n",
            "  warnings.warn(\n"
          ]
        }
      ]
    },
    {
      "cell_type": "code",
      "source": [
        "features = data[['JobLevel','TotalWorkingYears','YearsInCurrentRole','MonthlyIncome','YearsAtCompany','YearsWithCurrManager']]\n",
        "target = data['YearsSinceLastPromotion']\n",
        "\n",
        "x=features\n",
        "y=target\n",
        "\n",
        "x_train,x_test,y_train,y_test = train_test_split(x,y,test_size=0.2,random_state=42)\n",
        "\n",
        "from sklearn.linear_model import LinearRegression\n",
        "linearmodel = LinearRegression()\n",
        "linearmodel.fit(x_train,y_train)\n",
        "print(linearmodel.coef_)\n",
        "print(linearmodel.intercept_)\n",
        "print(linearmodel.score(x_test,y_test))"
      ],
      "metadata": {
        "colab": {
          "base_uri": "https://localhost:8080/"
        },
        "id": "Nu6jmyh4DKos",
        "outputId": "1e0a5326-c152-4f33-aae5-ccc08ab7f12a"
      },
      "execution_count": 13,
      "outputs": [
        {
          "output_type": "stream",
          "name": "stdout",
          "text": [
            "[-1.63240068e-01  3.74781849e-03  1.50685467e-01  6.13301038e-05\n",
            "  2.30912454e-01 -2.42620680e-03]\n",
            "-0.3788658878128577\n",
            "0.4589137970170857\n"
          ]
        }
      ]
    },
    {
      "cell_type": "code",
      "source": [
        "import pickle\n",
        "\n",
        "with open(\"EmployeePromotionLikelihood1.pkl\",'wb') as file:\n",
        "          pickle.dump(linearmodel,file)\n",
        "print(\"Model saved as performance_rating_model1.pkl ✅\")"
      ],
      "metadata": {
        "colab": {
          "base_uri": "https://localhost:8080/"
        },
        "id": "5JVib8TdDSqC",
        "outputId": "675350d2-067d-4462-c9f3-6c9248697ee6"
      },
      "execution_count": 14,
      "outputs": [
        {
          "output_type": "stream",
          "name": "stdout",
          "text": [
            "Model saved as performance_rating_model1.pkl ✅\n"
          ]
        }
      ]
    },
    {
      "cell_type": "code",
      "source": [],
      "metadata": {
        "id": "KkMTuLMPDXuu"
      },
      "execution_count": null,
      "outputs": []
    }
  ]
}